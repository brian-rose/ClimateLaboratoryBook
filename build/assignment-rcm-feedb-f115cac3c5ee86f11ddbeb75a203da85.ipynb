{
 "cells": [
  {
   "cell_type": "markdown",
   "metadata": {},
   "source": [
    "# Assignment: Feedbacks in the Radiative-Convective Model\n",
    "\n",
    "This notebook is part of [The Climate Laboratory](https://brian-rose.github.io/ClimateLaboratoryBook) by [Brian E. J. Rose](http://www.atmos.albany.edu/facstaff/brose/index.html), University at Albany."
   ]
  },
  {
   "cell_type": "markdown",
   "metadata": {},
   "source": [
    "## Learning goals\n",
    "\n",
    "Students completing this assignment will gain the following skills and concepts:\n",
    "\n",
    "- Familiarity with setting up and running a single-column Radiative-Convective Model using climlab\n",
    "- Familiarity with plotting and interpreting vertical air temperature data on meteorological Skew-T charts\n",
    "- Use of climlab to perform controlled parameter-sensitivity experiments\n",
    "- Understanding of the lapse rate feedback concept\n",
    "- Calculation of radiative forcing and climate feedback parameters"
   ]
  },
  {
   "cell_type": "markdown",
   "metadata": {},
   "source": [
    "## Question 1\n",
    "\n",
    "Here you look at the effects of doubling CO$_2$ in the single-column Radiative-Convective model. \n",
    "\n",
    "*This exercise just repeats what we did in the lecture notes. You want to ensure that you can reproduce the same results before starting the next question, because you will need these results below.*\n",
    "\n",
    "Following the [lecture notes on climate sensitivity](https://brian-rose.github.io/ClimateLaboratoryBook/courseware/sensitivity-feedback.html), do the following:\n",
    "\n",
    "- set up a single-column radiative-convective model with specific humidity taken from the CESM control simulation\n",
    "- Run this control model out to equilibrium\n",
    "- Using a clone of the control model, double the atmospheric CO$_2$ and calculate the _stratosphere-adjusted radiative forcing_ $\\Delta R$.\n",
    "- Using another model clone with doubled CO$_2$, timestep the model out to equilibrium. _For this calculation, do not modify the specific humidity as we are assuming that there is no change in the water vapor distribution as the climate warms._\n",
    "- Calculate the no-feedback Equilibrium Climate Sensitivity (ECS). _Recall that this is a number in Kelvin._\n",
    "- Also calculate the no-feedback climate response parameter $\\lambda_0$ in W m$^{-2}$ K$^{-1}$.\n",
    "\n",
    "Verify and show that you get the same results as we did in the lecture notes."
   ]
  },
  {
   "cell_type": "code",
   "execution_count": null,
   "metadata": {},
   "outputs": [],
   "source": []
  },
  {
   "cell_type": "markdown",
   "metadata": {},
   "source": [
    "## Question 2: combined lapse rate and water vapor feedback in the RCM\n",
    "\n",
    "### Instructions\n",
    "\n",
    "A typical, expected feature of global warming is that the **upper troposphere warms more than the surface**. (Later we will see that this does occur in the CESM simulations).\n",
    "\n",
    "This feature is **not represented in our standard radiative-convective model**, which is forced to a single prescribed lapse rate due to our convective adjustment.\n",
    "\n",
    "Here you will suppose that other physical processes modify this lapse rate as the climate warms. \n",
    "\n",
    "**Repeat the RCM global warming calculation, but implement two different feedbacks:**\n",
    "\n",
    "- a water vapor feedback using **fixed relative humidity**\n",
    "- a **lapse rate feedback** using this formula:\n",
    "\n",
    "$$ \\Gamma = \\Gamma_{ref} - (0.3 \\text{ km}) \\Delta T_s $$\n",
    "\n",
    "where $\\Gamma_{ref}$ is the critical lapse rate you used in your control model, probably 6.5 K / km, and $\\Delta T_s$ is the **current value of the surface warming relative to the control** in units of K. \n",
    "\n",
    "So, for example if the model has warmed by 1 K at the surface, then our parameterization says that the critical lapse rate should be 6.5 - 0.3 = 6.2 K / km.\n",
    "\n",
    "Follow the example in the lecture notes where we implemented the fixed relative humidity. Remember that we needed to adjust the `specific_humidity` field of our radiation process at every timestep. Here we still need to do that, but in addition, we also need to change the attribute\n",
    "\n",
    "```\n",
    "adj_lapse_rate\n",
    "```\n",
    "\n",
    "of the convection process at each timestep.\n",
    "\n",
    "For example, if you have a model called `mymodel` that contains a `ConvectiveAdjustment` process called `Convection`, here is some code that you would need at every timestep:\n",
    "```\n",
    "mymodel.subprocess['Convection'].adj_lapse_rate = newvalue\n",
    "```\n",
    "where `newvalue` is a number in K / km. \n",
    "\n",
    "You will need to write a loop where, at every timestep, you calculate the appropriate value of `newvalue` and set the lapse rate parameter as shown above.\n",
    "\n",
    "### Specific questions:\n",
    "\n",
    "1. Make a nice skew-T plot that shows three temperature profiles:\n",
    "    - RCM control\n",
    "    - RCM, equilibrium after doubling CO$_2$ without feedback\n",
    "    - RCM, equilibrium after doubling CO$_2$ with combined water vapor and lapse rate feedback\n",
    "2. Based on your plot, where in the column do you find the greatest warming?\n",
    "3. Calculate the ECS of the new version of the model with combined water vapor and lapse rate feedback\n",
    "4. Is this sensitivity larger or smaller than the \"no feedback\" ECS? Is it larger or smaller than the ECS with water vapor feedback alone (which we calculated in the lecture notes)?\n",
    "5. Calculate the combined feedback parameter for (water vapor plus lapse rate).\n",
    "6. Compare this result to the IPCC figure with feedback results from comprehensive models in our lecture notes (labeled \"WV+LR\"). Do you find a similar number?\n",
    "7. Would you describe the **lapse rate feedback** as positive or negative?"
   ]
  },
  {
   "cell_type": "code",
   "execution_count": null,
   "metadata": {},
   "outputs": [],
   "source": []
  },
  {
   "cell_type": "markdown",
   "metadata": {},
   "source": [
    "____________\n",
    "\n",
    "## Credits\n",
    "\n",
    "This notebook is part of [The Climate Laboratory](https://brian-rose.github.io/ClimateLaboratoryBook), an open-source textbook developed and maintained by [Brian E. J. Rose](http://www.atmos.albany.edu/facstaff/brose/index.html), University at Albany.\n",
    "\n",
    "It is licensed for free and open consumption under the\n",
    "[Creative Commons Attribution 4.0 International (CC BY 4.0)](https://creativecommons.org/licenses/by/4.0/) license.\n",
    "\n",
    "Development of these notes and the [climlab software](https://github.com/climlab/climlab) is partially supported by the National Science Foundation under award AGS-1455071 to Brian Rose. Any opinions, findings, conclusions or recommendations expressed here are mine and do not necessarily reflect the views of the National Science Foundation.\n",
    "____________"
   ]
  },
  {
   "cell_type": "code",
   "execution_count": null,
   "metadata": {},
   "outputs": [],
   "source": []
  }
 ],
 "metadata": {
  "kernelspec": {
   "display_name": "Python 3 (ipykernel)",
   "language": "python",
   "name": "python3"
  },
  "language_info": {
   "codemirror_mode": {
    "name": "ipython",
    "version": 3
   },
   "file_extension": ".py",
   "mimetype": "text/x-python",
   "name": "python",
   "nbconvert_exporter": "python",
   "pygments_lexer": "ipython3",
   "version": "3.10.13"
  }
 },
 "nbformat": 4,
 "nbformat_minor": 4
}
