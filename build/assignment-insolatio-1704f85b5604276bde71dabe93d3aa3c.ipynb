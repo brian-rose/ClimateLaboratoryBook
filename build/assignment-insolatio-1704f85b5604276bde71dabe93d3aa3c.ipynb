{
 "cells": [
  {
   "cell_type": "markdown",
   "metadata": {},
   "source": [
    "# Assignment: Insolation and orbital parameters\n",
    "\n",
    "This notebook is part of [The Climate Laboratory](https://brian-rose.github.io/ClimateLaboratoryBook) by [Brian E. J. Rose](http://www.atmos.albany.edu/facstaff/brose/index.html), University at Albany."
   ]
  },
  {
   "cell_type": "markdown",
   "metadata": {},
   "source": [
    "## Instructions\n",
    "\n",
    "Follow examples in the lecture notes on [Insolation](https://brian-rose.github.io/ClimateLaboratoryBook/courseware/insolation.html) and [Orbital variations](https://brian-rose.github.io/ClimateLaboratoryBook/courseware/orbital.html) to complete the following exercises. The bonus problem at the end is not required, but could be interesting and will earn extra credit."
   ]
  },
  {
   "cell_type": "markdown",
   "metadata": {},
   "source": [
    "## Part 1\n",
    "\n",
    "Calculate the incoming solar radiation (insolation) at three different latitudes: \n",
    "- the equator\n",
    "- 45ºN\n",
    "- the North Pole. \n",
    "\n",
    "Use present-day orbital parameters.\n",
    "\n",
    "1. **Make a well-labeled graph** that shows **all three insolation curves on the same plot**. The x\n",
    "axis of your graph should be days of the calendar year (beginning January 1), and the y axis should be insolation in W/m2. Include a legend showing which curve corresponds to which latitude.\n",
    "2. Comment on the very different shapes of these three curves."
   ]
  },
  {
   "cell_type": "code",
   "execution_count": null,
   "metadata": {},
   "outputs": [],
   "source": []
  },
  {
   "cell_type": "markdown",
   "metadata": {},
   "source": [
    "## Part 2\n",
    "\n",
    "**Make the same graph using the orbital parameters of 10,000 years ago** (just after the end of the last ice age). Compare with your graph from Part 1 to answer these questions:\n",
    "\n",
    "1. Was the insolation at northern high latitudes at summer solstice weaker or stronger 10,000 years ago compared to present conditions?\n",
    "2. Was the summer season longer or shorter at high northern latitudes? To see this, look at the length of time between polar sunrise and polar sunset.\n",
    "3. What other differences do you notice?"
   ]
  },
  {
   "cell_type": "code",
   "execution_count": null,
   "metadata": {},
   "outputs": [],
   "source": []
  },
  {
   "cell_type": "markdown",
   "metadata": {},
   "source": [
    "## Part 3\n",
    "\n",
    "Calculate the **annual average insolation** for an array of latitudes ranging from the South Pole to the North Pole.\n",
    "\n",
    "Present your results as a well-labeled graph of annual average insolation as a function of latitude. You may use either present-day, or any other orbital parameters, but make sure you explain clearly what you using."
   ]
  },
  {
   "cell_type": "code",
   "execution_count": null,
   "metadata": {},
   "outputs": [],
   "source": []
  },
  {
   "cell_type": "markdown",
   "metadata": {},
   "source": [
    "## Part 4\n",
    "\n",
    "Recall that the **equilibrium temperature** in [our zero-dimensional EBM](https://brian-rose.github.io/ClimateLaboratoryBook/courseware/zero-dim-ebm.html#equilibrium-temperature) is\n",
    "\n",
    "$$T_{eq} = \\left( \\frac{(1-\\alpha) ~ Q}{\\tau~ \\sigma} \\right)^{\\frac{1}{4}}$$\n",
    "\n",
    "\n",
    "**Suppose that this model applies independently at every latitude, where $Q$ is the annual average insolation at that latitude** (i.e. ignore exchanges of energy between adjacent latitude bands). \n",
    "\n",
    "Using the annual mean $Q$ you computed in Part 3, make a graph of $T_{eq}$ as a function of latitude. Make sure to state clearly any assumptions you make about the parameter values $\\alpha, \\tau$.\n",
    "\n"
   ]
  },
  {
   "cell_type": "code",
   "execution_count": null,
   "metadata": {},
   "outputs": [],
   "source": []
  },
  {
   "cell_type": "markdown",
   "metadata": {},
   "source": [
    "## Part 5 \n",
    "\n",
    "1. What are typical **annual-average surface temperature** values at the South Pole, North Pole, and equator on Earth? Make sure to state your sources for these numbers. \n",
    "2. How do these compare to the equilibrium temperatures you computed in Part 4? \n",
    "3. Discuss some possible shortcomings of the simple model you used in Part 4."
   ]
  },
  {
   "cell_type": "code",
   "execution_count": null,
   "metadata": {},
   "outputs": [],
   "source": []
  },
  {
   "cell_type": "markdown",
   "metadata": {},
   "source": [
    "## Bonus question (for fun and extra credit)\n",
    "\n",
    "Repeat the exercises above for **a planet with zero eccentricity and 90º obliquity**.\n",
    "\n",
    "Speculate on what the seasonal cycle of temperature might look like at different locations on this planet.\n",
    "\n",
    "*90º obliquity means the planet’s rotation axis is parallel with the earth-sun plane, as if the planet were lying on its side. In our solar system, the planet Uranus has an obliquity close to 90º, as do many of the newly discovered extra-solar planets.*"
   ]
  },
  {
   "cell_type": "code",
   "execution_count": null,
   "metadata": {},
   "outputs": [],
   "source": []
  },
  {
   "cell_type": "markdown",
   "metadata": {},
   "source": [
    "____________\n",
    "\n",
    "## Credits\n",
    "\n",
    "This notebook is part of [The Climate Laboratory](https://brian-rose.github.io/ClimateLaboratoryBook), an open-source textbook developed and maintained by [Brian E. J. Rose](http://www.atmos.albany.edu/facstaff/brose/index.html), University at Albany.\n",
    "\n",
    "It is licensed for free and open consumption under the\n",
    "[Creative Commons Attribution 4.0 International (CC BY 4.0)](https://creativecommons.org/licenses/by/4.0/) license.\n",
    "\n",
    "Development of these notes and the [climlab software](https://github.com/climlab/climlab) is partially supported by the National Science Foundation under award AGS-1455071 to Brian Rose. Any opinions, findings, conclusions or recommendations expressed here are mine and do not necessarily reflect the views of the National Science Foundation.\n",
    "____________"
   ]
  },
  {
   "cell_type": "code",
   "execution_count": null,
   "metadata": {},
   "outputs": [],
   "source": []
  }
 ],
 "metadata": {
  "kernelspec": {
   "display_name": "Python 3",
   "language": "python",
   "name": "python3"
  },
  "language_info": {
   "codemirror_mode": {
    "name": "ipython",
    "version": 3
   },
   "file_extension": ".py",
   "mimetype": "text/x-python",
   "name": "python",
   "nbconvert_exporter": "python",
   "pygments_lexer": "ipython3",
   "version": "3.8.10"
  }
 },
 "nbformat": 4,
 "nbformat_minor": 4
}
