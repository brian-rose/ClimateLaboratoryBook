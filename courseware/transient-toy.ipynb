{
 "cells": [
  {
   "cell_type": "markdown",
   "metadata": {},
   "source": [
    "# Toy models of transient warming\n",
    "\n",
    "This notebook is part of [The Climate Laboratory](https://brian-rose.github.io/ClimateLaboratoryBook) by [Brian E. J. Rose](https://www.atmos.albany.edu/facstaff/brose/), University at Albany.\n",
    "\n",
    "## Exploring the rate of climate change"
   ]
  },
  {
   "cell_type": "markdown",
   "metadata": {},
   "source": [
    "In the last set of notes and homework we discussed differences between **equilibrium warming** and **transient warming** due to the slowly-evolving effects of ocean heat uptake.\n",
    "\n",
    "Here we are going to look at some toy climate models and think about relationships between climate sensitivity, ocean heat uptake, and timescales."
   ]
  },
  {
   "cell_type": "markdown",
   "metadata": {},
   "source": [
    "## Two versions of Radiative-Convective Equilibrium with different climate sensitivities\n",
    "\n",
    "We are going set up two different single-column model with different lapse rate feedbacks."
   ]
  },
  {
   "cell_type": "markdown",
   "metadata": {},
   "source": [
    "We begin by repeating the same setup we have done several times before, building a single-column RCM with prescribed water vapor profile."
   ]
  },
  {
   "cell_type": "code",
   "execution_count": 1,
   "metadata": {},
   "outputs": [],
   "source": [
    "%matplotlib inline\n",
    "import numpy as np\n",
    "import matplotlib.pyplot as plt\n",
    "import xarray as xr\n",
    "import climlab"
   ]
  },
  {
   "cell_type": "code",
   "execution_count": 2,
   "metadata": {},
   "outputs": [],
   "source": [
    "# Get the water vapor data from CESM output\n",
    "cesm_data_path = \"http://thredds.atmos.albany.edu:8080/thredds/dodsC/CESMA/\"\n",
    "atm_control = xr.open_dataset(cesm_data_path + \"cpl_1850_f19/concatenated/cpl_1850_f19.cam.h0.nc\")\n",
    "# Take global, annual average of the specific humidity\n",
    "weight_factor = atm_control.gw / atm_control.gw.mean(dim='lat')\n",
    "Qglobal = (atm_control.Q * weight_factor).mean(dim=('lat','lon','time'))"
   ]
  },
  {
   "cell_type": "code",
   "execution_count": 3,
   "metadata": {},
   "outputs": [],
   "source": [
    "#  Make a model on same vertical domain as the GCM\n",
    "state = climlab.column_state(lev=Qglobal.lev, water_depth=2.5)\n",
    "steps_per_year = 90\n",
    "deltat = climlab.constants.seconds_per_year/steps_per_year\n",
    "rad = climlab.radiation.RRTMG(name='Radiation',\n",
    "                              state=state, \n",
    "                              specific_humidity=Qglobal.values,\n",
    "                              timestep = deltat,\n",
    "                              albedo = 0.25,  # tuned to give reasonable ASR for reference cloud-free model\n",
    "                             )\n",
    "conv = climlab.convection.ConvectiveAdjustment(name='Convection',\n",
    "                                               state=state,\n",
    "                                               adj_lapse_rate=6.5,\n",
    "                                               timestep=rad.timestep,)\n",
    "rcm_control = climlab.couple([rad,conv], name='Radiative-Convective Model')"
   ]
  },
  {
   "cell_type": "markdown",
   "metadata": {},
   "source": [
    "Integrate the control model out to equilibrium."
   ]
  },
  {
   "cell_type": "code",
   "execution_count": 4,
   "metadata": {},
   "outputs": [
    {
     "name": "stdout",
     "output_type": "stream",
     "text": [
      "Integrating for 450 steps, 1826.2110000000002 days, or 5 years.\n",
      "Total elapsed time is 5.000000000000044 years.\n"
     ]
    },
    {
     "data": {
      "text/plain": [
       "Field([-5.82645043e-12])"
      ]
     },
     "execution_count": 4,
     "metadata": {},
     "output_type": "execute_result"
    }
   ],
   "source": [
    "rcm_control.integrate_years(5)\n",
    "rcm_control.ASR - rcm_control.OLR"
   ]
  },
  {
   "cell_type": "markdown",
   "metadata": {},
   "source": [
    "Now let's make two copies of this model and keep them in a list:"
   ]
  },
  {
   "cell_type": "code",
   "execution_count": 5,
   "metadata": {},
   "outputs": [],
   "source": [
    "slab_control = []\n",
    "slab_control.append(rcm_control)\n",
    "slab_control.append(climlab.process_like(rcm_control))"
   ]
  },
  {
   "cell_type": "markdown",
   "metadata": {},
   "source": [
    "We are going to **double CO$_2$ in both models** and label them as high and low sensitivity. We will build in **different feedbacks** into our two columns."
   ]
  },
  {
   "cell_type": "code",
   "execution_count": 6,
   "metadata": {},
   "outputs": [],
   "source": [
    "slab_2x = []\n",
    "for n in range(len(slab_control)):\n",
    "    rcm_2xCO2 = climlab.process_like(rcm_control)\n",
    "    rcm_2xCO2.subprocess['Radiation'].absorber_vmr['CO2'] *= 2.\n",
    "    if n == 0:\n",
    "        rcm_2xCO2.name = 'High-sensitivity RCM'\n",
    "    elif n == 1:\n",
    "        rcm_2xCO2.name = 'Low-sensitivity RCM'\n",
    "    slab_2x.append(rcm_2xCO2)"
   ]
  },
  {
   "cell_type": "markdown",
   "metadata": {},
   "source": [
    "We will implement a water vapor feedback as we have done before: by recomputing the specific humidity at every timestep using the current temperatures so that the **relative humidity stays fixed**.\n",
    "\n",
    "We begin by computing the relative humidity profile from the control climate."
   ]
  },
  {
   "cell_type": "code",
   "execution_count": 7,
   "metadata": {},
   "outputs": [],
   "source": [
    "#  actual specific humidity\n",
    "q = rcm_control.subprocess['Radiation'].specific_humidity\n",
    "#  saturation specific humidity (a function of temperature and pressure)\n",
    "qsat = climlab.utils.thermo.qsat(rcm_control.Tatm, rcm_control.lev)\n",
    "#  Relative humidity\n",
    "rh = q/qsat"
   ]
  },
  {
   "cell_type": "markdown",
   "metadata": {},
   "source": [
    "Now here is where our two models will differ:\n",
    "\n",
    "We are going to assign them **different lapse rate feedbacks**.\n",
    "\n",
    "Similar to the exercise in [this homework assignment](assignment-rcm-feedback), we are going to assume \n",
    "\n",
    "$$ \\Gamma = \\Gamma_{ref} + \\gamma * \\Delta T_s $$\n",
    "\n",
    "where $\\Gamma_{ref} = 6.5 K/km$ is the critical lapse rate in our control climate, and $\\gamma$ is a number in units of km$^{-1}$ that determines how much the critical lapse rate should change per degree warming.\n",
    "\n",
    "We are going to investigate two different assumptions:\n",
    "\n",
    "- temperatures decrease **more** with height under global warming, $\\gamma = +0.3$ km$^{-1}$\n",
    "- temperature decrease **less** with height under global warming, $\\gamma = -0.3$ km$^{-1}$"
   ]
  },
  {
   "cell_type": "code",
   "execution_count": 8,
   "metadata": {},
   "outputs": [],
   "source": [
    "lapse_change_factor = [+0.3, -0.3]"
   ]
  },
  {
   "cell_type": "code",
   "execution_count": 9,
   "metadata": {},
   "outputs": [
    {
     "name": "stdout",
     "output_type": "stream",
     "text": [
      "Integrating High-sensitivity RCM\n",
      "The TOA imbalance is 3.11e-05 W/m2\n",
      "The ECS is 3.57 K\n",
      "\n",
      "Integrating Low-sensitivity RCM\n",
      "The TOA imbalance is 2.22e-04 W/m2\n",
      "The ECS is 2.22 K\n",
      "\n"
     ]
    }
   ],
   "source": [
    "for n in range(len(slab_2x)):\n",
    "    rcm_2xCO2 = slab_2x[n]\n",
    "    print('Integrating ' + rcm_2xCO2.name)\n",
    "    for m in range(5 * steps_per_year):\n",
    "        # At every timestep\n",
    "        # we calculate the new saturation specific humidity for the new temperature\n",
    "        #  and change the water vapor in the radiation model\n",
    "        #  so that relative humidity is always the same\n",
    "        qsat = climlab.utils.thermo.qsat(rcm_2xCO2.Tatm, rcm_2xCO2.lev)\n",
    "        rcm_2xCO2.subprocess['Radiation'].specific_humidity[:] = rh * qsat\n",
    "        #  We also adjust the critical lapse rate in our convection model\n",
    "        DeltaTs = rcm_2xCO2.Ts - rcm_control.Ts\n",
    "        rcm_2xCO2.subprocess['Convection'].adj_lapse_rate = 6.5 + lapse_change_factor[n]*DeltaTs\n",
    "        rcm_2xCO2.step_forward()\n",
    "    imbalance = (rcm_2xCO2.ASR - rcm_2xCO2.OLR).squeeze()  # convert to a single scalar\n",
    "    ecs = (rcm_2xCO2.Ts - rcm_control.Ts).squeeze()\n",
    "    print('The TOA imbalance is {:.2e} W/m2'.format(imbalance))\n",
    "    print('The ECS is {:.2f} K'.format(ecs))\n",
    "    print('')"
   ]
  },
  {
   "cell_type": "markdown",
   "metadata": {},
   "source": [
    "So Model 0 (in which the lapse rates have gotten larger) is **more sensitive** than Model 1 (smaller lapse rates). It has a larger system gain, or a more positive overall climate feedback. \n",
    "\n",
    "Although this is not the main topic of today's lesson, it's still interesting to think about why the lapse rates affect the climate sensivitity in this way..."
   ]
  },
  {
   "cell_type": "markdown",
   "metadata": {},
   "source": [
    "## Time to reach equilibrium\n",
    "\n",
    "These models reached their new equilibria in just a few years. Why is that? Because they have very little heat capacity:"
   ]
  },
  {
   "cell_type": "code",
   "execution_count": 10,
   "metadata": {},
   "outputs": [
    {
     "data": {
      "text/plain": [
       "array([0. , 2.5])"
      ]
     },
     "execution_count": 10,
     "metadata": {},
     "output_type": "execute_result"
    }
   ],
   "source": [
    "slab_control[0].depth_bounds"
   ]
  },
  {
   "cell_type": "markdown",
   "metadata": {},
   "source": [
    "The \"ocean\" in these models is just a \"slab\" of water 2.5 meter deep.\n",
    "\n",
    "That's all we need to calculate the equilibrium temperatures, but it tells us nothing about the timescales for climate change in the real world.\n",
    "\n",
    "For this, we need a deep ocean that can **exchange heat with the surface**."
   ]
  },
  {
   "cell_type": "markdown",
   "metadata": {},
   "source": [
    "## Transient warming scenarios in column models with ocean heat uptake"
   ]
  },
  {
   "cell_type": "markdown",
   "metadata": {},
   "source": [
    "We are now going to build two new models. The atmosphere (radiative-convective model) will be identical to the two \"slab\" models we just used. But these will be coupled to a **column of ocean water** 2000 m deep!\n",
    "\n",
    "We will **parameterize the ocean heat uptake** as a diffusive mixing process. Much like when we discussed the diffusive parameterization for atmospheric heat transport -- we are assuming that ocean dynamics result in a vertical mixing of heat from warm to cold temperatures.\n",
    "\n",
    "The following code will set this up for us.\n",
    "\n",
    "We will make one more assumption, just for the sake of illustration:\n",
    "\n",
    "*The more sensitive model (Model 0) is also more efficent at taking up heat into the deep ocean*"
   ]
  },
  {
   "cell_type": "code",
   "execution_count": 11,
   "metadata": {},
   "outputs": [
    {
     "name": "stdout",
     "output_type": "stream",
     "text": [
      "\n",
      "climlab Process of type <class 'climlab.process.time_dependent_process.TimeDependentProcess'>. \n",
      "State variables and domain shapes: \n",
      "  Tatm: (26,) \n",
      "  Ts: (1,) \n",
      "  Tocean: (20,) \n",
      "The subprocess tree: \n",
      "RCM with high sensitivity and efficient heat uptake: <class 'climlab.process.time_dependent_process.TimeDependentProcess'>\n",
      "   Radiation: <class 'climlab.radiation.rrtm.rrtmg.RRTMG'>\n",
      "      SW: <class 'climlab.radiation.rrtm.rrtmg_sw.RRTMG_SW'>\n",
      "      LW: <class 'climlab.radiation.rrtm.rrtmg_lw.RRTMG_LW'>\n",
      "   Convection: <class 'climlab.convection.convadj.ConvectiveAdjustment'>\n",
      "   Ocean Heat Uptake: <class 'climlab.dynamics.advection_diffusion.Diffusion'>\n",
      "\n",
      "\n",
      "\n",
      "climlab Process of type <class 'climlab.process.time_dependent_process.TimeDependentProcess'>. \n",
      "State variables and domain shapes: \n",
      "  Tatm: (26,) \n",
      "  Ts: (1,) \n",
      "  Tocean: (20,) \n",
      "The subprocess tree: \n",
      "RCM with low sensitivity and inefficient heat uptake: <class 'climlab.process.time_dependent_process.TimeDependentProcess'>\n",
      "   Radiation: <class 'climlab.radiation.rrtm.rrtmg.RRTMG'>\n",
      "      SW: <class 'climlab.radiation.rrtm.rrtmg_sw.RRTMG_SW'>\n",
      "      LW: <class 'climlab.radiation.rrtm.rrtmg_lw.RRTMG_LW'>\n",
      "   Convection: <class 'climlab.convection.convadj.ConvectiveAdjustment'>\n",
      "   Ocean Heat Uptake: <class 'climlab.dynamics.advection_diffusion.Diffusion'>\n",
      "\n",
      "\n"
     ]
    }
   ],
   "source": [
    "#  Create the domains\n",
    "ocean_bounds = np.arange(0., 2010., 100.)\n",
    "depthax = climlab.Axis(axis_type='depth', bounds=ocean_bounds)\n",
    "ocean = climlab.domain.domain.Ocean(axes=depthax)\n",
    "atm = slab_control[0].Tatm.domain\n",
    "\n",
    "#  Model 0 has a higher ocean heat diffusion coefficient -- \n",
    "#  a more efficent deep ocean heat sink\n",
    "ocean_diff = [5.E-4, 3.5E-4]\n",
    "\n",
    "#  List of deep ocean models\n",
    "deep = []\n",
    "for n in range(len(slab_control)):\n",
    "    rcm_control = slab_control[n]\n",
    "    #  Create the state variables\n",
    "    Tinitial_ocean = rcm_control.Ts * np.ones(ocean.shape)\n",
    "    Tocean = climlab.Field(Tinitial_ocean.copy(), domain=ocean)\n",
    "    Tatm = climlab.Field(rcm_control.Tatm.copy(), domain=atm)\n",
    "\n",
    "    #  Surface temperature Ts is the upper-most grid box of the ocean\n",
    "    Ts = Tocean[0:1]\n",
    "    atm_state = {'Tatm': Tatm, 'Ts': Ts}\n",
    "    \n",
    "    rad = climlab.radiation.RRTMG(name='Radiation',\n",
    "                                  state=atm_state, \n",
    "                                  specific_humidity=Qglobal.values,\n",
    "                                  timestep = deltat,\n",
    "                                  albedo = 0.25,  \n",
    "                                 )\n",
    "    conv = climlab.convection.ConvectiveAdjustment(name='Convection',\n",
    "                                                   state=atm_state,\n",
    "                                                   adj_lapse_rate=6.5,\n",
    "                                                   timestep=rad.timestep,)\n",
    "\n",
    "    model = rad + conv\n",
    "    if n == 0:\n",
    "        model.name = 'RCM with high sensitivity and efficient heat uptake'\n",
    "    elif n == 1:\n",
    "        model.name = 'RCM with low sensitivity and inefficient heat uptake'\n",
    "    model.set_state('Tocean', Tocean)\n",
    "    diff = climlab.dynamics.Diffusion(state={'Tocean': model.Tocean}, \n",
    "                                K=ocean_diff[n], \n",
    "                                diffusion_axis='depth', \n",
    "                                timestep=deltat * 10,)\n",
    "    model.add_subprocess('Ocean Heat Uptake', diff)\n",
    "    print('')\n",
    "    print(model)\n",
    "    print('')\n",
    "    deep.append(model)"
   ]
  },
  {
   "cell_type": "markdown",
   "metadata": {},
   "source": [
    "## An idealized transient global warming scenario: CO2 increases by 1%/year to doubling."
   ]
  },
  {
   "cell_type": "markdown",
   "metadata": {},
   "source": [
    "Now consider the CO$_2$ increase. In the real world, CO$_2$ has been increasing every year since the beginning of industrialization. Future CO$_2$ concentrations depend on collective choices made by human societies about how much fossil fuel to extract and burn.\n",
    "\n",
    "We will set up a simple scenario. Suppose that CO$_2$ increases by 1% of its existing concentration every year **until it reaches 2x its initial concentration**. This takes about 70 years.\n",
    "\n",
    "After 70 years, we assume that all anthropogenic emissions, and CO$_2$ concentration is **stabilized** at the 2x level.\n",
    "\n",
    "What happens to the surface temperature?\n",
    "\n",
    "How do the histories of surface and deep ocean temperature compare in our two models?\n",
    "\n",
    "We are going to simulation **400 years of transient global warming** in the two models."
   ]
  },
  {
   "cell_type": "markdown",
   "metadata": {},
   "source": [
    ":::{caution}\n",
    "This code will take a long time to run! While it's running, we'll think about what the result might look like.\n",
    ":::"
   ]
  },
  {
   "cell_type": "code",
   "execution_count": 12,
   "metadata": {},
   "outputs": [
    {
     "name": "stdout",
     "output_type": "stream",
     "text": [
      "Year  1 , CO2 mixing ratio is  351.47999999999996  ppm.\n",
      "Year  2 , CO2 mixing ratio is  354.9948  ppm.\n",
      "Year  3 , CO2 mixing ratio is  358.54474799999997  ppm.\n",
      "Year  4 , CO2 mixing ratio is  362.13019548  ppm.\n",
      "Year  5 , CO2 mixing ratio is  365.7514974348  ppm.\n",
      "Year  6 , CO2 mixing ratio is  369.409012409148  ppm.\n",
      "Year  7 , CO2 mixing ratio is  373.1031025332395  ppm.\n",
      "Year  8 , CO2 mixing ratio is  376.8341335585719  ppm.\n",
      "Year  9 , CO2 mixing ratio is  380.60247489415764  ppm.\n",
      "Year  10 , CO2 mixing ratio is  384.4084996430992  ppm.\n",
      "Year  11 , CO2 mixing ratio is  388.2525846395302  ppm.\n",
      "Year  12 , CO2 mixing ratio is  392.1351104859255  ppm.\n",
      "Year  13 , CO2 mixing ratio is  396.0564615907848  ppm.\n",
      "Year  14 , CO2 mixing ratio is  400.01702620669266  ppm.\n",
      "Year  15 , CO2 mixing ratio is  404.01719646875955  ppm.\n",
      "Year  16 , CO2 mixing ratio is  408.05736843344715  ppm.\n",
      "Year  17 , CO2 mixing ratio is  412.1379421177816  ppm.\n",
      "Year  18 , CO2 mixing ratio is  416.2593215389594  ppm.\n",
      "Year  19 , CO2 mixing ratio is  420.421914754349  ppm.\n",
      "Year  20 , CO2 mixing ratio is  424.6261339018925  ppm.\n",
      "Year  21 , CO2 mixing ratio is  428.87239524091143  ppm.\n",
      "Year  22 , CO2 mixing ratio is  433.16111919332053  ppm.\n",
      "Year  23 , CO2 mixing ratio is  437.4927303852537  ppm.\n",
      "Year  24 , CO2 mixing ratio is  441.8676576891063  ppm.\n",
      "Year  25 , CO2 mixing ratio is  446.2863342659973  ppm.\n",
      "Year  26 , CO2 mixing ratio is  450.7491976086573  ppm.\n",
      "Year  27 , CO2 mixing ratio is  455.25668958474387  ppm.\n",
      "Year  28 , CO2 mixing ratio is  459.80925648059133  ppm.\n",
      "Year  29 , CO2 mixing ratio is  464.40734904539727  ppm.\n",
      "Year  30 , CO2 mixing ratio is  469.05142253585126  ppm.\n",
      "Year  31 , CO2 mixing ratio is  473.7419367612098  ppm.\n",
      "Year  32 , CO2 mixing ratio is  478.4793561288219  ppm.\n",
      "Year  33 , CO2 mixing ratio is  483.2641496901101  ppm.\n",
      "Year  34 , CO2 mixing ratio is  488.0967911870112  ppm.\n",
      "Year  35 , CO2 mixing ratio is  492.97775909888134  ppm.\n",
      "Year  36 , CO2 mixing ratio is  497.9075366898702  ppm.\n",
      "Year  37 , CO2 mixing ratio is  502.8866120567689  ppm.\n",
      "Year  38 , CO2 mixing ratio is  507.9154781773365  ppm.\n",
      "Year  39 , CO2 mixing ratio is  512.9946329591099  ppm.\n",
      "Year  40 , CO2 mixing ratio is  518.124579288701  ppm.\n",
      "Year  41 , CO2 mixing ratio is  523.3058250815881  ppm.\n",
      "Year  42 , CO2 mixing ratio is  528.5388833324039  ppm.\n",
      "Year  43 , CO2 mixing ratio is  533.824272165728  ppm.\n",
      "Year  44 , CO2 mixing ratio is  539.1625148873851  ppm.\n",
      "Year  45 , CO2 mixing ratio is  544.554140036259  ppm.\n",
      "Year  46 , CO2 mixing ratio is  549.9996814366216  ppm.\n",
      "Year  47 , CO2 mixing ratio is  555.4996782509878  ppm.\n",
      "Year  48 , CO2 mixing ratio is  561.0546750334977  ppm.\n",
      "Year  49 , CO2 mixing ratio is  566.6652217838326  ppm.\n",
      "Year  50 , CO2 mixing ratio is  572.3318740016709  ppm.\n",
      "Year  51 , CO2 mixing ratio is  578.0551927416877  ppm.\n",
      "Year  52 , CO2 mixing ratio is  583.8357446691045  ppm.\n",
      "Year  53 , CO2 mixing ratio is  589.6741021157957  ppm.\n",
      "Year  54 , CO2 mixing ratio is  595.5708431369536  ppm.\n",
      "Year  55 , CO2 mixing ratio is  601.5265515683232  ppm.\n",
      "Year  56 , CO2 mixing ratio is  607.5418170840064  ppm.\n",
      "Year  57 , CO2 mixing ratio is  613.6172352548465  ppm.\n",
      "Year  58 , CO2 mixing ratio is  619.753407607395  ppm.\n",
      "Year  59 , CO2 mixing ratio is  625.950941683469  ppm.\n",
      "Year  60 , CO2 mixing ratio is  632.2104511003037  ppm.\n",
      "Year  61 , CO2 mixing ratio is  638.5325556113066  ppm.\n",
      "Year  62 , CO2 mixing ratio is  644.9178811674196  ppm.\n",
      "Year  63 , CO2 mixing ratio is  651.3670599790938  ppm.\n",
      "Year  64 , CO2 mixing ratio is  657.8807305788848  ppm.\n",
      "Year  65 , CO2 mixing ratio is  664.4595378846738  ppm.\n",
      "Year  66 , CO2 mixing ratio is  671.1041332635205  ppm.\n",
      "Year  67 , CO2 mixing ratio is  677.8151745961557  ppm.\n",
      "Year  68 , CO2 mixing ratio is  684.5933263421173  ppm.\n",
      "Year  69 , CO2 mixing ratio is  691.4392596055384  ppm.\n",
      "Year  70 , CO2 mixing ratio is  698.3536522015938  ppm.\n",
      "Year  71 , CO2 mixing ratio is  698.3536522015938  ppm.\n",
      "Year  72 , CO2 mixing ratio is  698.3536522015938  ppm.\n",
      "Year  73 , CO2 mixing ratio is  698.3536522015938  ppm.\n",
      "Year  74 , CO2 mixing ratio is  698.3536522015938  ppm.\n",
      "Year  75 , CO2 mixing ratio is  698.3536522015938  ppm.\n",
      "Year  76 , CO2 mixing ratio is  698.3536522015938  ppm.\n",
      "Year  77 , CO2 mixing ratio is  698.3536522015938  ppm.\n",
      "Year  78 , CO2 mixing ratio is  698.3536522015938  ppm.\n",
      "Year  79 , CO2 mixing ratio is  698.3536522015938  ppm.\n",
      "Year  80 , CO2 mixing ratio is  698.3536522015938  ppm.\n",
      "Year  81 , CO2 mixing ratio is  698.3536522015938  ppm.\n",
      "Year  82 , CO2 mixing ratio is  698.3536522015938  ppm.\n",
      "Year  83 , CO2 mixing ratio is  698.3536522015938  ppm.\n",
      "Year  84 , CO2 mixing ratio is  698.3536522015938  ppm.\n",
      "Year  85 , CO2 mixing ratio is  698.3536522015938  ppm.\n",
      "Year  86 , CO2 mixing ratio is  698.3536522015938  ppm.\n",
      "Year  87 , CO2 mixing ratio is  698.3536522015938  ppm.\n",
      "Year  88 , CO2 mixing ratio is  698.3536522015938  ppm.\n",
      "Year  89 , CO2 mixing ratio is  698.3536522015938  ppm.\n",
      "Year  90 , CO2 mixing ratio is  698.3536522015938  ppm.\n",
      "Year  91 , CO2 mixing ratio is  698.3536522015938  ppm.\n",
      "Year  92 , CO2 mixing ratio is  698.3536522015938  ppm.\n",
      "Year  93 , CO2 mixing ratio is  698.3536522015938  ppm.\n",
      "Year  94 , CO2 mixing ratio is  698.3536522015938  ppm.\n",
      "Year  95 , CO2 mixing ratio is  698.3536522015938  ppm.\n",
      "Year  96 , CO2 mixing ratio is  698.3536522015938  ppm.\n",
      "Year  97 , CO2 mixing ratio is  698.3536522015938  ppm.\n",
      "Year  98 , CO2 mixing ratio is  698.3536522015938  ppm.\n",
      "Year  99 , CO2 mixing ratio is  698.3536522015938  ppm.\n",
      "Year  100 , CO2 mixing ratio is  698.3536522015938  ppm.\n",
      "Year  101 , CO2 mixing ratio is  698.3536522015938  ppm.\n",
      "Year  102 , CO2 mixing ratio is  698.3536522015938  ppm.\n",
      "Year  103 , CO2 mixing ratio is  698.3536522015938  ppm.\n",
      "Year  104 , CO2 mixing ratio is  698.3536522015938  ppm.\n",
      "Year  105 , CO2 mixing ratio is  698.3536522015938  ppm.\n",
      "Year  106 , CO2 mixing ratio is  698.3536522015938  ppm.\n",
      "Year  107 , CO2 mixing ratio is  698.3536522015938  ppm.\n",
      "Year  108 , CO2 mixing ratio is  698.3536522015938  ppm.\n",
      "Year  109 , CO2 mixing ratio is  698.3536522015938  ppm.\n",
      "Year  110 , CO2 mixing ratio is  698.3536522015938  ppm.\n",
      "Year  111 , CO2 mixing ratio is  698.3536522015938  ppm.\n",
      "Year  112 , CO2 mixing ratio is  698.3536522015938  ppm.\n",
      "Year  113 , CO2 mixing ratio is  698.3536522015938  ppm.\n",
      "Year  114 , CO2 mixing ratio is  698.3536522015938  ppm.\n",
      "Year  115 , CO2 mixing ratio is  698.3536522015938  ppm.\n",
      "Year  116 , CO2 mixing ratio is  698.3536522015938  ppm.\n",
      "Year  117 , CO2 mixing ratio is  698.3536522015938  ppm.\n",
      "Year  118 , CO2 mixing ratio is  698.3536522015938  ppm.\n",
      "Year  119 , CO2 mixing ratio is  698.3536522015938  ppm.\n",
      "Year  120 , CO2 mixing ratio is  698.3536522015938  ppm.\n",
      "Year  121 , CO2 mixing ratio is  698.3536522015938  ppm.\n",
      "Year  122 , CO2 mixing ratio is  698.3536522015938  ppm.\n",
      "Year  123 , CO2 mixing ratio is  698.3536522015938  ppm.\n",
      "Year  124 , CO2 mixing ratio is  698.3536522015938  ppm.\n",
      "Year  125 , CO2 mixing ratio is  698.3536522015938  ppm.\n",
      "Year  126 , CO2 mixing ratio is  698.3536522015938  ppm.\n",
      "Year  127 , CO2 mixing ratio is  698.3536522015938  ppm.\n",
      "Year  128 , CO2 mixing ratio is  698.3536522015938  ppm.\n",
      "Year  129 , CO2 mixing ratio is  698.3536522015938  ppm.\n",
      "Year  130 , CO2 mixing ratio is  698.3536522015938  ppm.\n",
      "Year  131 , CO2 mixing ratio is  698.3536522015938  ppm.\n",
      "Year  132 , CO2 mixing ratio is  698.3536522015938  ppm.\n",
      "Year  133 , CO2 mixing ratio is  698.3536522015938  ppm.\n",
      "Year  134 , CO2 mixing ratio is  698.3536522015938  ppm.\n",
      "Year  135 , CO2 mixing ratio is  698.3536522015938  ppm.\n",
      "Year  136 , CO2 mixing ratio is  698.3536522015938  ppm.\n",
      "Year  137 , CO2 mixing ratio is  698.3536522015938  ppm.\n",
      "Year  138 , CO2 mixing ratio is  698.3536522015938  ppm.\n",
      "Year  139 , CO2 mixing ratio is  698.3536522015938  ppm.\n",
      "Year  140 , CO2 mixing ratio is  698.3536522015938  ppm.\n",
      "Year  141 , CO2 mixing ratio is  698.3536522015938  ppm.\n",
      "Year  142 , CO2 mixing ratio is  698.3536522015938  ppm.\n",
      "Year  143 , CO2 mixing ratio is  698.3536522015938  ppm.\n",
      "Year  144 , CO2 mixing ratio is  698.3536522015938  ppm.\n",
      "Year  145 , CO2 mixing ratio is  698.3536522015938  ppm.\n",
      "Year  146 , CO2 mixing ratio is  698.3536522015938  ppm.\n",
      "Year  147 , CO2 mixing ratio is  698.3536522015938  ppm.\n",
      "Year  148 , CO2 mixing ratio is  698.3536522015938  ppm.\n",
      "Year  149 , CO2 mixing ratio is  698.3536522015938  ppm.\n",
      "Year  150 , CO2 mixing ratio is  698.3536522015938  ppm.\n",
      "Year  151 , CO2 mixing ratio is  698.3536522015938  ppm.\n",
      "Year  152 , CO2 mixing ratio is  698.3536522015938  ppm.\n",
      "Year  153 , CO2 mixing ratio is  698.3536522015938  ppm.\n",
      "Year  154 , CO2 mixing ratio is  698.3536522015938  ppm.\n",
      "Year  155 , CO2 mixing ratio is  698.3536522015938  ppm.\n",
      "Year  156 , CO2 mixing ratio is  698.3536522015938  ppm.\n",
      "Year  157 , CO2 mixing ratio is  698.3536522015938  ppm.\n",
      "Year  158 , CO2 mixing ratio is  698.3536522015938  ppm.\n",
      "Year  159 , CO2 mixing ratio is  698.3536522015938  ppm.\n",
      "Year  160 , CO2 mixing ratio is  698.3536522015938  ppm.\n",
      "Year  161 , CO2 mixing ratio is  698.3536522015938  ppm.\n",
      "Year  162 , CO2 mixing ratio is  698.3536522015938  ppm.\n",
      "Year  163 , CO2 mixing ratio is  698.3536522015938  ppm.\n",
      "Year  164 , CO2 mixing ratio is  698.3536522015938  ppm.\n",
      "Year  165 , CO2 mixing ratio is  698.3536522015938  ppm.\n",
      "Year  166 , CO2 mixing ratio is  698.3536522015938  ppm.\n",
      "Year  167 , CO2 mixing ratio is  698.3536522015938  ppm.\n",
      "Year  168 , CO2 mixing ratio is  698.3536522015938  ppm.\n",
      "Year  169 , CO2 mixing ratio is  698.3536522015938  ppm.\n",
      "Year  170 , CO2 mixing ratio is  698.3536522015938  ppm.\n",
      "Year  171 , CO2 mixing ratio is  698.3536522015938  ppm.\n",
      "Year  172 , CO2 mixing ratio is  698.3536522015938  ppm.\n",
      "Year  173 , CO2 mixing ratio is  698.3536522015938  ppm.\n",
      "Year  174 , CO2 mixing ratio is  698.3536522015938  ppm.\n",
      "Year  175 , CO2 mixing ratio is  698.3536522015938  ppm.\n",
      "Year  176 , CO2 mixing ratio is  698.3536522015938  ppm.\n",
      "Year  177 , CO2 mixing ratio is  698.3536522015938  ppm.\n",
      "Year  178 , CO2 mixing ratio is  698.3536522015938  ppm.\n",
      "Year  179 , CO2 mixing ratio is  698.3536522015938  ppm.\n",
      "Year  180 , CO2 mixing ratio is  698.3536522015938  ppm.\n",
      "Year  181 , CO2 mixing ratio is  698.3536522015938  ppm.\n",
      "Year  182 , CO2 mixing ratio is  698.3536522015938  ppm.\n",
      "Year  183 , CO2 mixing ratio is  698.3536522015938  ppm.\n",
      "Year  184 , CO2 mixing ratio is  698.3536522015938  ppm.\n",
      "Year  185 , CO2 mixing ratio is  698.3536522015938  ppm.\n",
      "Year  186 , CO2 mixing ratio is  698.3536522015938  ppm.\n",
      "Year  187 , CO2 mixing ratio is  698.3536522015938  ppm.\n",
      "Year  188 , CO2 mixing ratio is  698.3536522015938  ppm.\n",
      "Year  189 , CO2 mixing ratio is  698.3536522015938  ppm.\n",
      "Year  190 , CO2 mixing ratio is  698.3536522015938  ppm.\n",
      "Year  191 , CO2 mixing ratio is  698.3536522015938  ppm.\n",
      "Year  192 , CO2 mixing ratio is  698.3536522015938  ppm.\n",
      "Year  193 , CO2 mixing ratio is  698.3536522015938  ppm.\n",
      "Year  194 , CO2 mixing ratio is  698.3536522015938  ppm.\n",
      "Year  195 , CO2 mixing ratio is  698.3536522015938  ppm.\n",
      "Year  196 , CO2 mixing ratio is  698.3536522015938  ppm.\n",
      "Year  197 , CO2 mixing ratio is  698.3536522015938  ppm.\n",
      "Year  198 , CO2 mixing ratio is  698.3536522015938  ppm.\n",
      "Year  199 , CO2 mixing ratio is  698.3536522015938  ppm.\n",
      "Year  200 , CO2 mixing ratio is  698.3536522015938  ppm.\n",
      "Year  201 , CO2 mixing ratio is  698.3536522015938  ppm.\n",
      "Year  202 , CO2 mixing ratio is  698.3536522015938  ppm.\n",
      "Year  203 , CO2 mixing ratio is  698.3536522015938  ppm.\n",
      "Year  204 , CO2 mixing ratio is  698.3536522015938  ppm.\n",
      "Year  205 , CO2 mixing ratio is  698.3536522015938  ppm.\n",
      "Year  206 , CO2 mixing ratio is  698.3536522015938  ppm.\n",
      "Year  207 , CO2 mixing ratio is  698.3536522015938  ppm.\n",
      "Year  208 , CO2 mixing ratio is  698.3536522015938  ppm.\n",
      "Year  209 , CO2 mixing ratio is  698.3536522015938  ppm.\n",
      "Year  210 , CO2 mixing ratio is  698.3536522015938  ppm.\n",
      "Year  211 , CO2 mixing ratio is  698.3536522015938  ppm.\n",
      "Year  212 , CO2 mixing ratio is  698.3536522015938  ppm.\n",
      "Year  213 , CO2 mixing ratio is  698.3536522015938  ppm.\n",
      "Year  214 , CO2 mixing ratio is  698.3536522015938  ppm.\n",
      "Year  215 , CO2 mixing ratio is  698.3536522015938  ppm.\n",
      "Year  216 , CO2 mixing ratio is  698.3536522015938  ppm.\n",
      "Year  217 , CO2 mixing ratio is  698.3536522015938  ppm.\n",
      "Year  218 , CO2 mixing ratio is  698.3536522015938  ppm.\n",
      "Year  219 , CO2 mixing ratio is  698.3536522015938  ppm.\n",
      "Year  220 , CO2 mixing ratio is  698.3536522015938  ppm.\n",
      "Year  221 , CO2 mixing ratio is  698.3536522015938  ppm.\n",
      "Year  222 , CO2 mixing ratio is  698.3536522015938  ppm.\n",
      "Year  223 , CO2 mixing ratio is  698.3536522015938  ppm.\n",
      "Year  224 , CO2 mixing ratio is  698.3536522015938  ppm.\n",
      "Year  225 , CO2 mixing ratio is  698.3536522015938  ppm.\n",
      "Year  226 , CO2 mixing ratio is  698.3536522015938  ppm.\n",
      "Year  227 , CO2 mixing ratio is  698.3536522015938  ppm.\n",
      "Year  228 , CO2 mixing ratio is  698.3536522015938  ppm.\n",
      "Year  229 , CO2 mixing ratio is  698.3536522015938  ppm.\n",
      "Year  230 , CO2 mixing ratio is  698.3536522015938  ppm.\n",
      "Year  231 , CO2 mixing ratio is  698.3536522015938  ppm.\n",
      "Year  232 , CO2 mixing ratio is  698.3536522015938  ppm.\n",
      "Year  233 , CO2 mixing ratio is  698.3536522015938  ppm.\n",
      "Year  234 , CO2 mixing ratio is  698.3536522015938  ppm.\n",
      "Year  235 , CO2 mixing ratio is  698.3536522015938  ppm.\n",
      "Year  236 , CO2 mixing ratio is  698.3536522015938  ppm.\n",
      "Year  237 , CO2 mixing ratio is  698.3536522015938  ppm.\n",
      "Year  238 , CO2 mixing ratio is  698.3536522015938  ppm.\n",
      "Year  239 , CO2 mixing ratio is  698.3536522015938  ppm.\n",
      "Year  240 , CO2 mixing ratio is  698.3536522015938  ppm.\n",
      "Year  241 , CO2 mixing ratio is  698.3536522015938  ppm.\n",
      "Year  242 , CO2 mixing ratio is  698.3536522015938  ppm.\n",
      "Year  243 , CO2 mixing ratio is  698.3536522015938  ppm.\n",
      "Year  244 , CO2 mixing ratio is  698.3536522015938  ppm.\n",
      "Year  245 , CO2 mixing ratio is  698.3536522015938  ppm.\n",
      "Year  246 , CO2 mixing ratio is  698.3536522015938  ppm.\n",
      "Year  247 , CO2 mixing ratio is  698.3536522015938  ppm.\n",
      "Year  248 , CO2 mixing ratio is  698.3536522015938  ppm.\n",
      "Year  249 , CO2 mixing ratio is  698.3536522015938  ppm.\n",
      "Year  250 , CO2 mixing ratio is  698.3536522015938  ppm.\n",
      "Year  251 , CO2 mixing ratio is  698.3536522015938  ppm.\n",
      "Year  252 , CO2 mixing ratio is  698.3536522015938  ppm.\n",
      "Year  253 , CO2 mixing ratio is  698.3536522015938  ppm.\n",
      "Year  254 , CO2 mixing ratio is  698.3536522015938  ppm.\n",
      "Year  255 , CO2 mixing ratio is  698.3536522015938  ppm.\n",
      "Year  256 , CO2 mixing ratio is  698.3536522015938  ppm.\n",
      "Year  257 , CO2 mixing ratio is  698.3536522015938  ppm.\n",
      "Year  258 , CO2 mixing ratio is  698.3536522015938  ppm.\n",
      "Year  259 , CO2 mixing ratio is  698.3536522015938  ppm.\n",
      "Year  260 , CO2 mixing ratio is  698.3536522015938  ppm.\n",
      "Year  261 , CO2 mixing ratio is  698.3536522015938  ppm.\n",
      "Year  262 , CO2 mixing ratio is  698.3536522015938  ppm.\n",
      "Year  263 , CO2 mixing ratio is  698.3536522015938  ppm.\n",
      "Year  264 , CO2 mixing ratio is  698.3536522015938  ppm.\n",
      "Year  265 , CO2 mixing ratio is  698.3536522015938  ppm.\n",
      "Year  266 , CO2 mixing ratio is  698.3536522015938  ppm.\n",
      "Year  267 , CO2 mixing ratio is  698.3536522015938  ppm.\n",
      "Year  268 , CO2 mixing ratio is  698.3536522015938  ppm.\n",
      "Year  269 , CO2 mixing ratio is  698.3536522015938  ppm.\n",
      "Year  270 , CO2 mixing ratio is  698.3536522015938  ppm.\n",
      "Year  271 , CO2 mixing ratio is  698.3536522015938  ppm.\n",
      "Year  272 , CO2 mixing ratio is  698.3536522015938  ppm.\n",
      "Year  273 , CO2 mixing ratio is  698.3536522015938  ppm.\n",
      "Year  274 , CO2 mixing ratio is  698.3536522015938  ppm.\n",
      "Year  275 , CO2 mixing ratio is  698.3536522015938  ppm.\n",
      "Year  276 , CO2 mixing ratio is  698.3536522015938  ppm.\n",
      "Year  277 , CO2 mixing ratio is  698.3536522015938  ppm.\n",
      "Year  278 , CO2 mixing ratio is  698.3536522015938  ppm.\n",
      "Year  279 , CO2 mixing ratio is  698.3536522015938  ppm.\n",
      "Year  280 , CO2 mixing ratio is  698.3536522015938  ppm.\n",
      "Year  281 , CO2 mixing ratio is  698.3536522015938  ppm.\n",
      "Year  282 , CO2 mixing ratio is  698.3536522015938  ppm.\n",
      "Year  283 , CO2 mixing ratio is  698.3536522015938  ppm.\n",
      "Year  284 , CO2 mixing ratio is  698.3536522015938  ppm.\n",
      "Year  285 , CO2 mixing ratio is  698.3536522015938  ppm.\n",
      "Year  286 , CO2 mixing ratio is  698.3536522015938  ppm.\n",
      "Year  287 , CO2 mixing ratio is  698.3536522015938  ppm.\n",
      "Year  288 , CO2 mixing ratio is  698.3536522015938  ppm.\n",
      "Year  289 , CO2 mixing ratio is  698.3536522015938  ppm.\n",
      "Year  290 , CO2 mixing ratio is  698.3536522015938  ppm.\n",
      "Year  291 , CO2 mixing ratio is  698.3536522015938  ppm.\n",
      "Year  292 , CO2 mixing ratio is  698.3536522015938  ppm.\n",
      "Year  293 , CO2 mixing ratio is  698.3536522015938  ppm.\n",
      "Year  294 , CO2 mixing ratio is  698.3536522015938  ppm.\n",
      "Year  295 , CO2 mixing ratio is  698.3536522015938  ppm.\n",
      "Year  296 , CO2 mixing ratio is  698.3536522015938  ppm.\n",
      "Year  297 , CO2 mixing ratio is  698.3536522015938  ppm.\n",
      "Year  298 , CO2 mixing ratio is  698.3536522015938  ppm.\n",
      "Year  299 , CO2 mixing ratio is  698.3536522015938  ppm.\n",
      "Year  300 , CO2 mixing ratio is  698.3536522015938  ppm.\n",
      "Year  301 , CO2 mixing ratio is  698.3536522015938  ppm.\n",
      "Year  302 , CO2 mixing ratio is  698.3536522015938  ppm.\n",
      "Year  303 , CO2 mixing ratio is  698.3536522015938  ppm.\n",
      "Year  304 , CO2 mixing ratio is  698.3536522015938  ppm.\n",
      "Year  305 , CO2 mixing ratio is  698.3536522015938  ppm.\n",
      "Year  306 , CO2 mixing ratio is  698.3536522015938  ppm.\n",
      "Year  307 , CO2 mixing ratio is  698.3536522015938  ppm.\n",
      "Year  308 , CO2 mixing ratio is  698.3536522015938  ppm.\n",
      "Year  309 , CO2 mixing ratio is  698.3536522015938  ppm.\n",
      "Year  310 , CO2 mixing ratio is  698.3536522015938  ppm.\n",
      "Year  311 , CO2 mixing ratio is  698.3536522015938  ppm.\n",
      "Year  312 , CO2 mixing ratio is  698.3536522015938  ppm.\n",
      "Year  313 , CO2 mixing ratio is  698.3536522015938  ppm.\n",
      "Year  314 , CO2 mixing ratio is  698.3536522015938  ppm.\n",
      "Year  315 , CO2 mixing ratio is  698.3536522015938  ppm.\n",
      "Year  316 , CO2 mixing ratio is  698.3536522015938  ppm.\n",
      "Year  317 , CO2 mixing ratio is  698.3536522015938  ppm.\n",
      "Year  318 , CO2 mixing ratio is  698.3536522015938  ppm.\n",
      "Year  319 , CO2 mixing ratio is  698.3536522015938  ppm.\n",
      "Year  320 , CO2 mixing ratio is  698.3536522015938  ppm.\n",
      "Year  321 , CO2 mixing ratio is  698.3536522015938  ppm.\n",
      "Year  322 , CO2 mixing ratio is  698.3536522015938  ppm.\n",
      "Year  323 , CO2 mixing ratio is  698.3536522015938  ppm.\n",
      "Year  324 , CO2 mixing ratio is  698.3536522015938  ppm.\n",
      "Year  325 , CO2 mixing ratio is  698.3536522015938  ppm.\n",
      "Year  326 , CO2 mixing ratio is  698.3536522015938  ppm.\n",
      "Year  327 , CO2 mixing ratio is  698.3536522015938  ppm.\n",
      "Year  328 , CO2 mixing ratio is  698.3536522015938  ppm.\n",
      "Year  329 , CO2 mixing ratio is  698.3536522015938  ppm.\n",
      "Year  330 , CO2 mixing ratio is  698.3536522015938  ppm.\n",
      "Year  331 , CO2 mixing ratio is  698.3536522015938  ppm.\n",
      "Year  332 , CO2 mixing ratio is  698.3536522015938  ppm.\n",
      "Year  333 , CO2 mixing ratio is  698.3536522015938  ppm.\n",
      "Year  334 , CO2 mixing ratio is  698.3536522015938  ppm.\n",
      "Year  335 , CO2 mixing ratio is  698.3536522015938  ppm.\n",
      "Year  336 , CO2 mixing ratio is  698.3536522015938  ppm.\n",
      "Year  337 , CO2 mixing ratio is  698.3536522015938  ppm.\n",
      "Year  338 , CO2 mixing ratio is  698.3536522015938  ppm.\n",
      "Year  339 , CO2 mixing ratio is  698.3536522015938  ppm.\n",
      "Year  340 , CO2 mixing ratio is  698.3536522015938  ppm.\n",
      "Year  341 , CO2 mixing ratio is  698.3536522015938  ppm.\n",
      "Year  342 , CO2 mixing ratio is  698.3536522015938  ppm.\n",
      "Year  343 , CO2 mixing ratio is  698.3536522015938  ppm.\n",
      "Year  344 , CO2 mixing ratio is  698.3536522015938  ppm.\n",
      "Year  345 , CO2 mixing ratio is  698.3536522015938  ppm.\n",
      "Year  346 , CO2 mixing ratio is  698.3536522015938  ppm.\n",
      "Year  347 , CO2 mixing ratio is  698.3536522015938  ppm.\n",
      "Year  348 , CO2 mixing ratio is  698.3536522015938  ppm.\n",
      "Year  349 , CO2 mixing ratio is  698.3536522015938  ppm.\n",
      "Year  350 , CO2 mixing ratio is  698.3536522015938  ppm.\n",
      "Year  351 , CO2 mixing ratio is  698.3536522015938  ppm.\n",
      "Year  352 , CO2 mixing ratio is  698.3536522015938  ppm.\n",
      "Year  353 , CO2 mixing ratio is  698.3536522015938  ppm.\n",
      "Year  354 , CO2 mixing ratio is  698.3536522015938  ppm.\n",
      "Year  355 , CO2 mixing ratio is  698.3536522015938  ppm.\n",
      "Year  356 , CO2 mixing ratio is  698.3536522015938  ppm.\n",
      "Year  357 , CO2 mixing ratio is  698.3536522015938  ppm.\n",
      "Year  358 , CO2 mixing ratio is  698.3536522015938  ppm.\n",
      "Year  359 , CO2 mixing ratio is  698.3536522015938  ppm.\n",
      "Year  360 , CO2 mixing ratio is  698.3536522015938  ppm.\n",
      "Year  361 , CO2 mixing ratio is  698.3536522015938  ppm.\n",
      "Year  362 , CO2 mixing ratio is  698.3536522015938  ppm.\n",
      "Year  363 , CO2 mixing ratio is  698.3536522015938  ppm.\n",
      "Year  364 , CO2 mixing ratio is  698.3536522015938  ppm.\n",
      "Year  365 , CO2 mixing ratio is  698.3536522015938  ppm.\n",
      "Year  366 , CO2 mixing ratio is  698.3536522015938  ppm.\n",
      "Year  367 , CO2 mixing ratio is  698.3536522015938  ppm.\n",
      "Year  368 , CO2 mixing ratio is  698.3536522015938  ppm.\n",
      "Year  369 , CO2 mixing ratio is  698.3536522015938  ppm.\n",
      "Year  370 , CO2 mixing ratio is  698.3536522015938  ppm.\n",
      "Year  371 , CO2 mixing ratio is  698.3536522015938  ppm.\n",
      "Year  372 , CO2 mixing ratio is  698.3536522015938  ppm.\n",
      "Year  373 , CO2 mixing ratio is  698.3536522015938  ppm.\n",
      "Year  374 , CO2 mixing ratio is  698.3536522015938  ppm.\n",
      "Year  375 , CO2 mixing ratio is  698.3536522015938  ppm.\n",
      "Year  376 , CO2 mixing ratio is  698.3536522015938  ppm.\n",
      "Year  377 , CO2 mixing ratio is  698.3536522015938  ppm.\n",
      "Year  378 , CO2 mixing ratio is  698.3536522015938  ppm.\n",
      "Year  379 , CO2 mixing ratio is  698.3536522015938  ppm.\n",
      "Year  380 , CO2 mixing ratio is  698.3536522015938  ppm.\n",
      "Year  381 , CO2 mixing ratio is  698.3536522015938  ppm.\n",
      "Year  382 , CO2 mixing ratio is  698.3536522015938  ppm.\n",
      "Year  383 , CO2 mixing ratio is  698.3536522015938  ppm.\n",
      "Year  384 , CO2 mixing ratio is  698.3536522015938  ppm.\n",
      "Year  385 , CO2 mixing ratio is  698.3536522015938  ppm.\n",
      "Year  386 , CO2 mixing ratio is  698.3536522015938  ppm.\n",
      "Year  387 , CO2 mixing ratio is  698.3536522015938  ppm.\n",
      "Year  388 , CO2 mixing ratio is  698.3536522015938  ppm.\n",
      "Year  389 , CO2 mixing ratio is  698.3536522015938  ppm.\n",
      "Year  390 , CO2 mixing ratio is  698.3536522015938  ppm.\n",
      "Year  391 , CO2 mixing ratio is  698.3536522015938  ppm.\n",
      "Year  392 , CO2 mixing ratio is  698.3536522015938  ppm.\n",
      "Year  393 , CO2 mixing ratio is  698.3536522015938  ppm.\n",
      "Year  394 , CO2 mixing ratio is  698.3536522015938  ppm.\n",
      "Year  395 , CO2 mixing ratio is  698.3536522015938  ppm.\n",
      "Year  396 , CO2 mixing ratio is  698.3536522015938  ppm.\n",
      "Year  397 , CO2 mixing ratio is  698.3536522015938  ppm.\n",
      "Year  398 , CO2 mixing ratio is  698.3536522015938  ppm.\n",
      "Year  399 , CO2 mixing ratio is  698.3536522015938  ppm.\n",
      "Year  400 , CO2 mixing ratio is  698.3536522015938  ppm.\n"
     ]
    }
   ],
   "source": [
    "num_years = 400\n",
    "years = np.arange(num_years+1)\n",
    "\n",
    "Tsarray = []\n",
    "Tocean = []\n",
    "netrad = []\n",
    "for n in range(len(deep)):\n",
    "    thisTs = np.nan * np.zeros(num_years+1)\n",
    "    thisnetrad = np.nan * np.zeros(num_years+1)\n",
    "    thisTocean = np.nan * np.zeros((deep[n].Tocean.size, num_years+1))\n",
    "    thisTs[0] = deep[n].Ts.squeeze()\n",
    "    thisnetrad[0] = (deep[n].ASR - deep[n].OLR).squeeze()\n",
    "    thisTocean[:, 0] = deep[n].Tocean\n",
    "    Tsarray.append(thisTs)\n",
    "    Tocean.append(thisTocean)\n",
    "    netrad.append(thisnetrad)\n",
    "    \n",
    "CO2initial = deep[0].subprocess['Radiation'].absorber_vmr['CO2']\n",
    "CO2array = np.nan * np.zeros(num_years+1)\n",
    "CO2array[0] = CO2initial * 1E6\n",
    "\n",
    "#  Increase CO2 by 1% / year for 70 years (until doubled), and then hold constant\n",
    "for y in range(num_years):\n",
    "    if deep[0].subprocess['Radiation'].absorber_vmr['CO2'] < 2 * CO2initial:\n",
    "        for model in deep:\n",
    "            model.subprocess['Radiation'].absorber_vmr['CO2'] *= 1.01\n",
    "    CO2array[y+1] = deep[0].subprocess['Radiation'].absorber_vmr['CO2'] * 1E6\n",
    "    print('Year ', y+1, ', CO2 mixing ratio is ', CO2array[y+1],' ppm.')\n",
    "\n",
    "    for n, model in enumerate(deep):\n",
    "        for m in range(steps_per_year):            \n",
    "            qsat = climlab.utils.thermo.qsat(model.Tatm, model.lev)\n",
    "            model.subprocess['Radiation'].specific_humidity[:] = rh * qsat\n",
    "            DeltaTs = model.Ts - slab_control[n].Ts\n",
    "            model.subprocess['Convection'].adj_lapse_rate = 6.5 + lapse_change_factor[n]*DeltaTs\n",
    "            model.step_forward()\n",
    "            \n",
    "            Tsarray[n][y+1] = model.Ts.squeeze()\n",
    "            Tocean[n][:, y+1] = model.Tocean\n",
    "            netrad[n][y+1] = (model.ASR - model.OLR).squeeze()"
   ]
  },
  {
   "cell_type": "code",
   "execution_count": 13,
   "metadata": {},
   "outputs": [
    {
     "data": {
      "image/png": "[encoded data removed]",
      "text/plain": [
       "<Figure size 1200x1400 with 6 Axes>"
      ]
     },
     "metadata": {},
     "output_type": "display_data"
    }
   ],
   "source": [
    "colorlist = ['b', 'r']\n",
    "co2color = 'k'\n",
    "\n",
    "num_axes = len(deep) + 1\n",
    "fig, ax = plt.subplots(num_axes, figsize=(12,14))\n",
    "\n",
    "# Twin the x-axis twice to make independent y-axes.\n",
    "topaxes = [ax[0], ax[0].twinx(), ax[0].twinx()]\n",
    "\n",
    "# Make some space on the right side for the extra y-axis.\n",
    "fig.subplots_adjust(right=0.85)\n",
    "\n",
    "# Move the last y-axis spine over to the right by 10% of the width of the axes\n",
    "topaxes[-1].spines['right'].set_position(('axes', 1.1))\n",
    "\n",
    "# To make the border of the right-most axis visible, we need to turn the frame\n",
    "# on. This hides the other plots, however, so we need to turn its fill off.\n",
    "topaxes[-1].set_frame_on(True)\n",
    "topaxes[-1].patch.set_visible(False)\n",
    "\n",
    "for n, model in enumerate(slab_2x):\n",
    "    topaxes[0].plot(model.Ts*np.ones_like(Tsarray[n]), '--', color=colorlist[n])\n",
    "topaxes[0].set_ylabel('Surface temperature (K)')\n",
    "topaxes[0].set_xlabel('Years')\n",
    "topaxes[0].set_title('Transient warming scenario: 1%/year CO2 increase to doubling, followed by CO2 stabilization', fontsize=14)\n",
    "topaxes[0].legend(['Model 0', 'Model 1'], loc='lower right')\n",
    "\n",
    "topaxes[1].plot(CO2array, color=co2color)\n",
    "topaxes[1].set_ylabel('CO2 (ppm)', color=co2color)\n",
    "for tl in topaxes[1].get_yticklabels():\n",
    "    tl.set_color(co2color)\n",
    "topaxes[1].set_ylim(300., 1000.)\n",
    "\n",
    "topaxes[2].set_ylabel('TOA imbalance (W/m2)', color='b')\n",
    "for tl in topaxes[2].get_yticklabels():\n",
    "    tl.set_color('b')\n",
    "topaxes[2].set_ylim(0, 3)\n",
    "\n",
    "\n",
    "contour_levels = np.arange(-0.25, 3.25, 0.25)\n",
    "for n in range(len(deep)):\n",
    "    cax = ax[n+1].contourf(years, deep[n].depth, Tocean[n] - Tsarray[n][0], levels=contour_levels)\n",
    "    ax[n+1].invert_yaxis()\n",
    "    ax[n+1].set_ylabel('Depth (m)')\n",
    "    ax[n+1].set_xlabel('Years')\n",
    "\n",
    "\n",
    "for n, model in enumerate(deep):\n",
    "    topaxes[0].plot(Tsarray[n], color=colorlist[n])\n",
    "    topaxes[2].plot(netrad[n], ':', color=colorlist[n])\n",
    "    for n in range(len(deep)):\n",
    "        cax = ax[n+1].contourf(years, deep[n].depth, Tocean[n] - Tsarray[n][0], levels=contour_levels)    \n",
    "topaxes[1].plot(CO2array, color=co2color)\n",
    "\n",
    "fig.subplots_adjust(bottom=0.12)\n",
    "cbar_ax = fig.add_axes([0.25, 0.02, 0.5, 0.03])\n",
    "fig.colorbar(cax, cax=cbar_ax, orientation='horizontal');"
   ]
  },
  {
   "cell_type": "markdown",
   "metadata": {},
   "source": [
    "## Transient vs. equilibrium warming: key points\n",
    "\n",
    "- During the first 70 years, the radiative forcing goes up every year\n",
    "- The warming in the two models is almost identical during this phase\n",
    "- After year 70, the CO$_2$ levels are stable and so the radiative forcing is no longer increasing\n",
    "- Both models continue to warm for hundreds of years\n",
    "- The difference between the two models become larger over time\n",
    "- In either case, at the time of CO$_2$ doubling the model has achieved only a fraction of its equilibrium surface warming.\n",
    "- The difference between the warming at year 70 and the equilibrium warming is called the **committed warming**. It is the global warming associated with CO$_2$ emissions that are **already in the atmosphere**.\n",
    "- How do we know at year 70 what the committed warming is?  Are we on the blue or the red path? At year 70, have we achieved half or only a third of the eventual equilibrium warming?\n",
    "- In our example, the more sensitive model also has more efficient ocean heat uptake, so the initial warming looks identical. \n",
    "- **Uncertainties in both climate feedback processes and ocean heat uptake processes contribute to uncertainty in the rate of global warming**"
   ]
  },
  {
   "cell_type": "markdown",
   "metadata": {},
   "source": [
    "## Results from comprehensive coupled GCMs"
   ]
  },
  {
   "cell_type": "markdown",
   "metadata": {},
   "source": [
    "### Fast and slow components of the warming"
   ]
  },
  {
   "cell_type": "markdown",
   "metadata": {},
   "source": [
    "This figure shows how a comprehensive coupled GCM responds to the same kind of idealized CO$_2$ increase we have looked at above: CO$_2$ increases at 1%/year for 70 years and is then held constant at twice the pre-industrial level (blue curve), or at 4x the pre-industrial level (red curve) {cite:p}`Yoshimori:2016a`\n",
    "\n",
    "The dashed curve show the **ocean heat content** continuing to rise slowly over thousands of years."
   ]
  },
  {
   "cell_type": "markdown",
   "metadata": {},
   "source": [
    "<img src=\"http://www.atmos.albany.edu/facstaff/brose/classes/ENV415_Spring2018/images/Yoshimori_transientwarming.png\" width=\"400\">"
   ]
  },
  {
   "cell_type": "markdown",
   "metadata": {},
   "source": [
    "> M. Yoshimori, M. Watanabe, H. Shiogama, A. Oka, A. Abe-Ouchi, R. Ohgaito, and Y. Kamae. A review of progress towards understanding the transient global mean surface temperature response to radiative perturbation. Prog. Earth Planet. Sic., 3, 2016."
   ]
  },
  {
   "cell_type": "markdown",
   "metadata": {},
   "source": [
    "### What happens if CO$_2$ levels are abruptly returned to pre-industrial levels? "
   ]
  },
  {
   "cell_type": "markdown",
   "metadata": {},
   "source": [
    "Here, in a different model, we see the surface temperature change through the historical period (black) followed by a typical future global warming scenario (blue).\n",
    "\n",
    "The red curves show the effects of suddenly returning greenhouse gases to their preindustrial levels at various times in the future.\n",
    "\n",
    "The temperatures very quickly drop, but **not back to the preindustrial values**. Over time, the build-up of heat content in the deep ocean means that, even if CO$_2$ levels revert to what they used to be, the climate remain quite a bit warmer for thousands of years.\n",
    "\n",
    "This has been referred to as the **recalcitrant** component of global warming, in analogy with stubborn medical conditions that are difficult to treat {cite:p}`Held:2010a`."
   ]
  },
  {
   "cell_type": "markdown",
   "metadata": {},
   "source": [
    "<img src=\"http://www.atmos.albany.edu/facstaff/brose/classes/ENV415_Spring2018/images/Held_recalcitrant.png\" width=\"400\">"
   ]
  },
  {
   "cell_type": "markdown",
   "metadata": {},
   "source": [
    "> I. M. Held, M. Winton, K. Takahashi, T. Delworth, F. Zeng, and G. K. Vallis. Probing the fast and slow components of global warming by returning abruptly to preindustrial forcing. J. Climate, 23:2418–2427, 2010."
   ]
  },
  {
   "cell_type": "markdown",
   "metadata": {
    "slideshow": {
     "slide_type": "skip"
    }
   },
   "source": [
    "____________\n",
    "\n",
    "## Credits\n",
    "\n",
    "This notebook is part of [The Climate Laboratory](https://brian-rose.github.io/ClimateLaboratoryBook), an open-source textbook developed and maintained by [Brian E. J. Rose](https://www.atmos.albany.edu/facstaff/brose/), University at Albany.\n",
    "\n",
    "It is licensed for free and open consumption under the\n",
    "[Creative Commons Attribution 4.0 International (CC BY 4.0)](https://creativecommons.org/licenses/by/4.0/) license.\n",
    "\n",
    "Development of these notes and the [climlab software](https://github.com/climlab/climlab) is partially supported by the National Science Foundation under award AGS-1455071 to Brian Rose. Any opinions, findings, conclusions or recommendations expressed here are mine and do not necessarily reflect the views of the National Science Foundation.\n",
    "____________"
   ]
  }
 ],
 "metadata": {
  "kernelspec": {
   "display_name": "Python 3 (ipykernel)",
   "language": "python",
   "name": "python3"
  },
  "language_info": {
   "codemirror_mode": {
    "name": "ipython",
    "version": 3
   },
   "file_extension": ".py",
   "mimetype": "text/x-python",
   "name": "python",
   "nbconvert_exporter": "python",
   "pygments_lexer": "ipython3",
   "version": "3.13.5"
  }
 },
 "nbformat": 4,
 "nbformat_minor": 4
}
